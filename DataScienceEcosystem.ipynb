{
 "cells": [
  {
   "cell_type": "markdown",
   "id": "b1f47c6e",
   "metadata": {},
   "source": [
    "#  Data Science Tools and Ecosystem"
   ]
  },
  {
   "cell_type": "markdown",
   "id": "168bb590",
   "metadata": {},
   "source": [
    " In this notebook, Data Science Tools and Ecosystem are summarized."
   ]
  },
  {
   "cell_type": "markdown",
   "id": "2d8460c0",
   "metadata": {},
   "source": [
    "# Objectives:\n",
    "\n",
    "- Learn about Data Science Ecosystem.\n",
    "- Popular Languages used for Data Science.\n",
    "- Common Programming Software used by Data Scientiests.\n",
    "- Converting minutes into hours.\n"
   ]
  },
  {
   "cell_type": "markdown",
   "id": "ae70d747",
   "metadata": {},
   "source": [
    " Some of the popular languages that Data Scientists use are:\n",
    " \n",
    "    1. Python\n",
    "    2. Scala\n",
    "    3. R\n",
    "    4. Julia"
   ]
  },
  {
   "cell_type": "markdown",
   "id": "5cf9ca59",
   "metadata": {},
   "source": [
    "Some of the commonly used libraries used by Data Scientists include:\n",
    "\n",
    "1. Pandas\n",
    "2. Numpy\n",
    "3. Seaborn\n",
    "4. Matplotlib"
   ]
  },
  {
   "cell_type": "markdown",
   "id": "850289ee",
   "metadata": {},
   "source": [
    "| Data Science Tools    |\n",
    "| ----------------------|\n",
    "|VsCode                 |\n",
    "|Jupyter                |\n",
    "|RStudio                |\n",
    " \n"
   ]
  },
  {
   "cell_type": "markdown",
   "id": "b713707d",
   "metadata": {},
   "source": [
    "# Below are a few examples of evaluating arithmetic expressions in Python"
   ]
  },
  {
   "cell_type": "code",
   "execution_count": 4,
   "id": "0410799e",
   "metadata": {},
   "outputs": [
    {
     "data": {
      "text/plain": [
       "8"
      ]
     },
     "execution_count": 4,
     "metadata": {},
     "output_type": "execute_result"
    }
   ],
   "source": [
    "# Example 1: Addition\n",
    "result_addition = 5 + 3\n",
    "result_addition\n"
   ]
  },
  {
   "cell_type": "code",
   "execution_count": 11,
   "id": "15d9b518",
   "metadata": {},
   "outputs": [
    {
     "data": {
      "text/plain": [
       "5.0"
      ]
     },
     "execution_count": 11,
     "metadata": {},
     "output_type": "execute_result"
    }
   ],
   "source": [
    "# Example 4: Division\n",
    "result_division = 15 / 3\n",
    "result_division\n"
   ]
  },
  {
   "cell_type": "markdown",
   "id": "78b0d452",
   "metadata": {},
   "source": [
    "This a simple arithmetic expression to mutiply then add integers.\n"
   ]
  },
  {
   "cell_type": "code",
   "execution_count": 21,
   "id": "1b02d2d4",
   "metadata": {},
   "outputs": [
    {
     "data": {
      "text/plain": [
       "17"
      ]
     },
     "execution_count": 21,
     "metadata": {},
     "output_type": "execute_result"
    }
   ],
   "source": [
    "x_multiply = (3*4)+5\n",
    "x_multiply"
   ]
  },
  {
   "cell_type": "markdown",
   "id": "f7f85902",
   "metadata": {},
   "source": [
    "This will convert 200 minutes to hours by diving by 60."
   ]
  },
  {
   "cell_type": "code",
   "execution_count": 12,
   "id": "21cc271f",
   "metadata": {},
   "outputs": [
    {
     "data": {
      "text/plain": [
       "3.3333333333333335"
      ]
     },
     "execution_count": 12,
     "metadata": {},
     "output_type": "execute_result"
    }
   ],
   "source": [
    "minutes = 200\n",
    "hours = minutes / 60\n",
    "hours"
   ]
  },
  {
   "cell_type": "markdown",
   "id": "c1bb3ebb",
   "metadata": {},
   "source": [
    "# Author\n",
    "\n",
    "Jitein Rawat"
   ]
  }
 ],
 "metadata": {
  "kernelspec": {
   "display_name": "Python 3 (ipykernel)",
   "language": "python",
   "name": "python3"
  },
  "language_info": {
   "codemirror_mode": {
    "name": "ipython",
    "version": 3
   },
   "file_extension": ".py",
   "mimetype": "text/x-python",
   "name": "python",
   "nbconvert_exporter": "python",
   "pygments_lexer": "ipython3",
   "version": "3.11.5"
  }
 },
 "nbformat": 4,
 "nbformat_minor": 5
}
